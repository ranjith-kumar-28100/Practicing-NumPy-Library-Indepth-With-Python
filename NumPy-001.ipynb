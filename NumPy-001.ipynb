{
 "cells": [
  {
   "cell_type": "code",
   "execution_count": 1,
   "id": "3a3f01df",
   "metadata": {},
   "outputs": [],
   "source": [
    "import numpy as np"
   ]
  },
  {
   "cell_type": "code",
   "execution_count": 2,
   "id": "b82e090e",
   "metadata": {},
   "outputs": [],
   "source": [
    "list1 = [1,4,5,6,10]"
   ]
  },
  {
   "cell_type": "code",
   "execution_count": 3,
   "id": "f4476622",
   "metadata": {},
   "outputs": [],
   "source": [
    "arr1 = np.array(list1)"
   ]
  },
  {
   "cell_type": "code",
   "execution_count": 4,
   "id": "af636f42",
   "metadata": {},
   "outputs": [
    {
     "data": {
      "text/plain": [
       "array([ 1,  4,  5,  6, 10])"
      ]
     },
     "execution_count": 4,
     "metadata": {},
     "output_type": "execute_result"
    }
   ],
   "source": [
    "arr1"
   ]
  },
  {
   "cell_type": "code",
   "execution_count": 8,
   "id": "dfb44076",
   "metadata": {},
   "outputs": [],
   "source": [
    "arr2 = np.array(list1,dtype='float32')"
   ]
  },
  {
   "cell_type": "code",
   "execution_count": 6,
   "id": "c87fc586",
   "metadata": {},
   "outputs": [
    {
     "data": {
      "text/plain": [
       "array([ 1.,  4.,  5.,  6., 10.], dtype=float32)"
      ]
     },
     "execution_count": 6,
     "metadata": {},
     "output_type": "execute_result"
    }
   ],
   "source": [
    "arr2"
   ]
  },
  {
   "cell_type": "code",
   "execution_count": 9,
   "id": "1c271cb4",
   "metadata": {},
   "outputs": [],
   "source": [
    "list2 = [1,3.5,True,'Thomas']"
   ]
  },
  {
   "cell_type": "code",
   "execution_count": 10,
   "id": "6a77849c",
   "metadata": {},
   "outputs": [],
   "source": [
    "arr3 = np.array(list2)"
   ]
  },
  {
   "cell_type": "code",
   "execution_count": 11,
   "id": "6caf29e5",
   "metadata": {},
   "outputs": [
    {
     "data": {
      "text/plain": [
       "array(['1', '3.5', 'True', 'Thomas'], dtype='<U32')"
      ]
     },
     "execution_count": 11,
     "metadata": {},
     "output_type": "execute_result"
    }
   ],
   "source": [
    "arr3"
   ]
  },
  {
   "cell_type": "markdown",
   "id": "e9a26799",
   "metadata": {},
   "source": [
    "### Array Creational Methods"
   ]
  },
  {
   "cell_type": "code",
   "execution_count": 13,
   "id": "83b94386",
   "metadata": {},
   "outputs": [],
   "source": [
    "z_arr = np.zeros(shape=(10,),dtype ='int32')"
   ]
  },
  {
   "cell_type": "code",
   "execution_count": 14,
   "id": "103b84c9",
   "metadata": {},
   "outputs": [
    {
     "data": {
      "text/plain": [
       "array([0, 0, 0, 0, 0, 0, 0, 0, 0, 0])"
      ]
     },
     "execution_count": 14,
     "metadata": {},
     "output_type": "execute_result"
    }
   ],
   "source": [
    "z_arr"
   ]
  },
  {
   "cell_type": "code",
   "execution_count": 15,
   "id": "0261c399",
   "metadata": {},
   "outputs": [],
   "source": [
    "z_arr1 = np.zeros(shape=(10,3),dtype ='int32')"
   ]
  },
  {
   "cell_type": "code",
   "execution_count": 16,
   "id": "ea4c257b",
   "metadata": {},
   "outputs": [
    {
     "data": {
      "text/plain": [
       "array([[0, 0, 0],\n",
       "       [0, 0, 0],\n",
       "       [0, 0, 0],\n",
       "       [0, 0, 0],\n",
       "       [0, 0, 0],\n",
       "       [0, 0, 0],\n",
       "       [0, 0, 0],\n",
       "       [0, 0, 0],\n",
       "       [0, 0, 0],\n",
       "       [0, 0, 0]])"
      ]
     },
     "execution_count": 16,
     "metadata": {},
     "output_type": "execute_result"
    }
   ],
   "source": [
    "z_arr1"
   ]
  },
  {
   "cell_type": "code",
   "execution_count": 17,
   "id": "27fee916",
   "metadata": {},
   "outputs": [],
   "source": [
    "o_arr = np.ones(shape=(5,),dtype='int64')"
   ]
  },
  {
   "cell_type": "code",
   "execution_count": 18,
   "id": "1424bb1c",
   "metadata": {},
   "outputs": [
    {
     "data": {
      "text/plain": [
       "array([1, 1, 1, 1, 1], dtype=int64)"
      ]
     },
     "execution_count": 18,
     "metadata": {},
     "output_type": "execute_result"
    }
   ],
   "source": [
    "o_arr"
   ]
  },
  {
   "cell_type": "code",
   "execution_count": 19,
   "id": "a36323d2",
   "metadata": {},
   "outputs": [],
   "source": [
    "eye_arr = np.eye(N=3)"
   ]
  },
  {
   "cell_type": "code",
   "execution_count": 20,
   "id": "86dbd1c3",
   "metadata": {},
   "outputs": [
    {
     "data": {
      "text/plain": [
       "array([[1., 0., 0.],\n",
       "       [0., 1., 0.],\n",
       "       [0., 0., 1.]])"
      ]
     },
     "execution_count": 20,
     "metadata": {},
     "output_type": "execute_result"
    }
   ],
   "source": [
    "eye_arr"
   ]
  },
  {
   "cell_type": "code",
   "execution_count": 21,
   "id": "c5707984",
   "metadata": {},
   "outputs": [],
   "source": [
    "five_arr = np.full(shape=(3,2),fill_value =5)"
   ]
  },
  {
   "cell_type": "code",
   "execution_count": 22,
   "id": "c31580ac",
   "metadata": {},
   "outputs": [
    {
     "data": {
      "text/plain": [
       "array([[5, 5],\n",
       "       [5, 5],\n",
       "       [5, 5]])"
      ]
     },
     "execution_count": 22,
     "metadata": {},
     "output_type": "execute_result"
    }
   ],
   "source": [
    "five_arr"
   ]
  },
  {
   "cell_type": "code",
   "execution_count": 25,
   "id": "3c0b4d8c",
   "metadata": {},
   "outputs": [],
   "source": [
    "arange_arr = np.arange(start = 1, stop = 22, step = 2 )"
   ]
  },
  {
   "cell_type": "code",
   "execution_count": 26,
   "id": "cf22e371",
   "metadata": {},
   "outputs": [
    {
     "data": {
      "text/plain": [
       "array([ 1,  3,  5,  7,  9, 11, 13, 15, 17, 19, 21])"
      ]
     },
     "execution_count": 26,
     "metadata": {},
     "output_type": "execute_result"
    }
   ],
   "source": [
    "arange_arr"
   ]
  },
  {
   "cell_type": "code",
   "execution_count": 27,
   "id": "1f0db7fd",
   "metadata": {},
   "outputs": [],
   "source": [
    "linspace_arr = np.linspace(start = 1,stop = 2,num = 10)"
   ]
  },
  {
   "cell_type": "code",
   "execution_count": 28,
   "id": "e34729db",
   "metadata": {},
   "outputs": [
    {
     "data": {
      "text/plain": [
       "array([1.        , 1.11111111, 1.22222222, 1.33333333, 1.44444444,\n",
       "       1.55555556, 1.66666667, 1.77777778, 1.88888889, 2.        ])"
      ]
     },
     "execution_count": 28,
     "metadata": {},
     "output_type": "execute_result"
    }
   ],
   "source": [
    "linspace_arr"
   ]
  },
  {
   "cell_type": "code",
   "execution_count": 30,
   "id": "f1231561",
   "metadata": {},
   "outputs": [
    {
     "data": {
      "text/plain": [
       "array([-0.11111111, -0.11111111, -0.11111111, -0.11111111, -0.11111111,\n",
       "       -0.11111111, -0.11111111, -0.11111111, -0.11111111])"
      ]
     },
     "execution_count": 30,
     "metadata": {},
     "output_type": "execute_result"
    }
   ],
   "source": [
    "linspace_arr[0:len(linspace_arr)-1]-linspace_arr[1:]"
   ]
  },
  {
   "cell_type": "code",
   "execution_count": 31,
   "id": "3bc800ee",
   "metadata": {},
   "outputs": [],
   "source": [
    "emp_arr = np.empty(shape=(20,0))"
   ]
  },
  {
   "cell_type": "code",
   "execution_count": 32,
   "id": "2fb6b06a",
   "metadata": {},
   "outputs": [
    {
     "data": {
      "text/plain": [
       "array([], shape=(20, 0), dtype=float64)"
      ]
     },
     "execution_count": 32,
     "metadata": {},
     "output_type": "execute_result"
    }
   ],
   "source": [
    "emp_arr"
   ]
  },
  {
   "cell_type": "code",
   "execution_count": 33,
   "id": "ebc04db6",
   "metadata": {},
   "outputs": [
    {
     "data": {
      "text/plain": [
       "array([], dtype=float64)"
      ]
     },
     "execution_count": 33,
     "metadata": {},
     "output_type": "execute_result"
    }
   ],
   "source": [
    "emp_arr[0]"
   ]
  },
  {
   "cell_type": "code",
   "execution_count": 34,
   "id": "68af51e6",
   "metadata": {},
   "outputs": [],
   "source": [
    "random_arr = np.random.random(size=10).reshape(2,5)"
   ]
  },
  {
   "cell_type": "code",
   "execution_count": 35,
   "id": "96d92984",
   "metadata": {},
   "outputs": [
    {
     "data": {
      "text/plain": [
       "array([[0.361746  , 0.01776077, 0.75268761, 0.44882675, 0.606269  ],\n",
       "       [0.68436572, 0.94493087, 0.34316055, 0.08411241, 0.75730211]])"
      ]
     },
     "execution_count": 35,
     "metadata": {},
     "output_type": "execute_result"
    }
   ],
   "source": [
    "random_arr"
   ]
  },
  {
   "cell_type": "code",
   "execution_count": 38,
   "id": "d6b94ef9",
   "metadata": {},
   "outputs": [],
   "source": [
    "randint_arr = np.random.randint(low=1,high=5,size=(10,1))"
   ]
  },
  {
   "cell_type": "code",
   "execution_count": 39,
   "id": "c85bdb79",
   "metadata": {},
   "outputs": [
    {
     "data": {
      "text/plain": [
       "array([[1],\n",
       "       [4],\n",
       "       [2],\n",
       "       [2],\n",
       "       [3],\n",
       "       [1],\n",
       "       [4],\n",
       "       [1],\n",
       "       [1],\n",
       "       [1]])"
      ]
     },
     "execution_count": 39,
     "metadata": {},
     "output_type": "execute_result"
    }
   ],
   "source": [
    "randint_arr"
   ]
  },
  {
   "cell_type": "code",
   "execution_count": 40,
   "id": "b0d738df",
   "metadata": {},
   "outputs": [],
   "source": [
    "normal_arr = np.random.normal(loc=0,scale=1.0,size=(50,))"
   ]
  },
  {
   "cell_type": "code",
   "execution_count": 41,
   "id": "caae11e8",
   "metadata": {},
   "outputs": [
    {
     "data": {
      "text/plain": [
       "array([ 0.57130496, -1.60060117, -0.23829985,  1.60521299,  0.213598  ,\n",
       "        0.03406841, -0.96891133,  0.04183823, -1.69472495,  0.22301753,\n",
       "       -0.37396437, -0.15938182, -0.13871037,  0.97500201,  0.57118713,\n",
       "        0.81377603, -0.68419264, -0.48288334, -1.15716458,  1.3091836 ,\n",
       "       -0.40010085, -0.64607635, -1.05958471, -0.38944878, -0.47596141,\n",
       "        0.52970667, -1.06845522,  0.06772669, -0.64736625,  1.55827821,\n",
       "       -0.04651011, -1.19183967, -0.86642381,  1.92050381, -0.61407761,\n",
       "       -1.05317467,  1.03694289, -0.66863012, -1.39273836, -1.11676649,\n",
       "        0.18693179,  0.37799606, -2.28847833, -0.13135198,  1.02920418,\n",
       "        1.13554929,  0.24985061,  0.98995831, -0.28962723, -0.12462319])"
      ]
     },
     "execution_count": 41,
     "metadata": {},
     "output_type": "execute_result"
    }
   ],
   "source": [
    "normal_arr"
   ]
  },
  {
   "cell_type": "markdown",
   "id": "94140091",
   "metadata": {},
   "source": [
    "---"
   ]
  }
 ],
 "metadata": {
  "kernelspec": {
   "display_name": "Python 3 (ipykernel)",
   "language": "python",
   "name": "python3"
  },
  "language_info": {
   "codemirror_mode": {
    "name": "ipython",
    "version": 3
   },
   "file_extension": ".py",
   "mimetype": "text/x-python",
   "name": "python",
   "nbconvert_exporter": "python",
   "pygments_lexer": "ipython3",
   "version": "3.10.9"
  }
 },
 "nbformat": 4,
 "nbformat_minor": 5
}
