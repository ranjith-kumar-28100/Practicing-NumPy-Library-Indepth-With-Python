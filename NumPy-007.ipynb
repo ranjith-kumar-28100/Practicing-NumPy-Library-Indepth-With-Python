{
 "cells": [
  {
   "cell_type": "code",
   "execution_count": 1,
   "id": "346413f1",
   "metadata": {},
   "outputs": [],
   "source": [
    "import numpy as np"
   ]
  },
  {
   "cell_type": "code",
   "execution_count": 2,
   "id": "1df7f6e0",
   "metadata": {},
   "outputs": [],
   "source": [
    "rng = np.random.default_rng(1000)"
   ]
  },
  {
   "cell_type": "code",
   "execution_count": 19,
   "id": "1166affa",
   "metadata": {},
   "outputs": [],
   "source": [
    "x = rng.integers(1,100,10)"
   ]
  },
  {
   "cell_type": "code",
   "execution_count": 20,
   "id": "ff86a9dc",
   "metadata": {},
   "outputs": [
    {
     "data": {
      "text/plain": [
       "array([30, 19, 50, 28, 26, 75, 19, 55,  1, 86], dtype=int64)"
      ]
     },
     "execution_count": 20,
     "metadata": {},
     "output_type": "execute_result"
    }
   ],
   "source": [
    "x"
   ]
  },
  {
   "cell_type": "code",
   "execution_count": 21,
   "id": "a8a12c44",
   "metadata": {},
   "outputs": [
    {
     "data": {
      "text/plain": [
       "array([28,  1, 86], dtype=int64)"
      ]
     },
     "execution_count": 21,
     "metadata": {},
     "output_type": "execute_result"
    }
   ],
   "source": [
    "x[[3,8,9]]"
   ]
  },
  {
   "cell_type": "code",
   "execution_count": 22,
   "id": "284c6a3d",
   "metadata": {},
   "outputs": [],
   "source": [
    "ind = np.array([[2,3],[5,6]])"
   ]
  },
  {
   "cell_type": "code",
   "execution_count": 23,
   "id": "bc2281c3",
   "metadata": {},
   "outputs": [
    {
     "data": {
      "text/plain": [
       "array([[50, 28],\n",
       "       [75, 19]], dtype=int64)"
      ]
     },
     "execution_count": 23,
     "metadata": {},
     "output_type": "execute_result"
    }
   ],
   "source": [
    "x[ind]"
   ]
  },
  {
   "cell_type": "markdown",
   "id": "c17f2e79",
   "metadata": {},
   "source": [
    "### Copy instead of View"
   ]
  },
  {
   "cell_type": "code",
   "execution_count": 24,
   "id": "43fe45e1",
   "metadata": {},
   "outputs": [],
   "source": [
    "y = x.reshape(2,5).copy()"
   ]
  },
  {
   "cell_type": "code",
   "execution_count": 25,
   "id": "1f95fee2",
   "metadata": {},
   "outputs": [
    {
     "data": {
      "text/plain": [
       "array([[30, 19, 50, 28, 26],\n",
       "       [75, 19, 55,  1, 86]], dtype=int64)"
      ]
     },
     "execution_count": 25,
     "metadata": {},
     "output_type": "execute_result"
    }
   ],
   "source": [
    "y"
   ]
  },
  {
   "cell_type": "code",
   "execution_count": 26,
   "id": "659a39c0",
   "metadata": {},
   "outputs": [],
   "source": [
    "y[0,0]=1"
   ]
  },
  {
   "cell_type": "code",
   "execution_count": 27,
   "id": "754c797e",
   "metadata": {},
   "outputs": [
    {
     "data": {
      "text/plain": [
       "array([[ 1, 19, 50, 28, 26],\n",
       "       [75, 19, 55,  1, 86]], dtype=int64)"
      ]
     },
     "execution_count": 27,
     "metadata": {},
     "output_type": "execute_result"
    }
   ],
   "source": [
    "y"
   ]
  },
  {
   "cell_type": "code",
   "execution_count": 28,
   "id": "f83853e7",
   "metadata": {},
   "outputs": [
    {
     "data": {
      "text/plain": [
       "array([30, 19, 50, 28, 26, 75, 19, 55,  1, 86], dtype=int64)"
      ]
     },
     "execution_count": 28,
     "metadata": {},
     "output_type": "execute_result"
    }
   ],
   "source": [
    "x"
   ]
  },
  {
   "cell_type": "code",
   "execution_count": 31,
   "id": "116f3e39",
   "metadata": {},
   "outputs": [],
   "source": [
    "row = np.array([0,1])\n",
    "column = np.array([1,3])"
   ]
  },
  {
   "cell_type": "code",
   "execution_count": 33,
   "id": "b477c93f",
   "metadata": {},
   "outputs": [
    {
     "data": {
      "text/plain": [
       "array([19,  1], dtype=int64)"
      ]
     },
     "execution_count": 33,
     "metadata": {},
     "output_type": "execute_result"
    }
   ],
   "source": [
    "y[row,column] #y[0,1] & y[1,3]"
   ]
  },
  {
   "cell_type": "code",
   "execution_count": 34,
   "id": "8abb2b41",
   "metadata": {},
   "outputs": [
    {
     "data": {
      "text/plain": [
       "array([[0],\n",
       "       [1]])"
      ]
     },
     "execution_count": 34,
     "metadata": {},
     "output_type": "execute_result"
    }
   ],
   "source": [
    "row[:,np.newaxis]"
   ]
  },
  {
   "cell_type": "code",
   "execution_count": 36,
   "id": "98e1f82a",
   "metadata": {},
   "outputs": [
    {
     "data": {
      "text/plain": [
       "array([[19, 28],\n",
       "       [19,  1]], dtype=int64)"
      ]
     },
     "execution_count": 36,
     "metadata": {},
     "output_type": "execute_result"
    }
   ],
   "source": [
    "y[row[:,np.newaxis],column] #y[0,1] y[0,3] & y[1,1] y[1,3]"
   ]
  },
  {
   "cell_type": "code",
   "execution_count": 78,
   "id": "1c61ad06",
   "metadata": {},
   "outputs": [],
   "source": [
    "z = np.random.randint(1,1000,15).reshape(3,5)"
   ]
  },
  {
   "cell_type": "code",
   "execution_count": 79,
   "id": "2a6a42a6",
   "metadata": {},
   "outputs": [
    {
     "data": {
      "text/plain": [
       "array([[894, 348, 416, 477, 967],\n",
       "       [765, 317,  36, 598, 335],\n",
       "       [606, 448, 463, 429, 703]])"
      ]
     },
     "execution_count": 79,
     "metadata": {},
     "output_type": "execute_result"
    }
   ],
   "source": [
    "z"
   ]
  },
  {
   "cell_type": "code",
   "execution_count": 80,
   "id": "5d13d93d",
   "metadata": {},
   "outputs": [
    {
     "data": {
      "text/plain": [
       "array([317, 598, 335])"
      ]
     },
     "execution_count": 80,
     "metadata": {},
     "output_type": "execute_result"
    }
   ],
   "source": [
    "z[1,[1,3,4]] #2nd row, 2nd 4th and 5th element"
   ]
  },
  {
   "cell_type": "code",
   "execution_count": 81,
   "id": "19ec6adf",
   "metadata": {},
   "outputs": [
    {
     "data": {
      "text/plain": [
       "array([[317,  36, 598],\n",
       "       [448, 463, 429]])"
      ]
     },
     "execution_count": 81,
     "metadata": {},
     "output_type": "execute_result"
    }
   ],
   "source": [
    "z[1:,[1,2,3]]"
   ]
  },
  {
   "cell_type": "code",
   "execution_count": 82,
   "id": "905f58bf",
   "metadata": {},
   "outputs": [],
   "source": [
    "mask = np.array([True,False,False,True,False])"
   ]
  },
  {
   "cell_type": "code",
   "execution_count": 83,
   "id": "b0ea96dd",
   "metadata": {},
   "outputs": [
    {
     "data": {
      "text/plain": [
       "array([765, 598])"
      ]
     },
     "execution_count": 83,
     "metadata": {},
     "output_type": "execute_result"
    }
   ],
   "source": [
    "z[1,mask]"
   ]
  },
  {
   "cell_type": "code",
   "execution_count": 84,
   "id": "bd2fde8a",
   "metadata": {},
   "outputs": [
    {
     "data": {
      "text/plain": [
       "array([[765, 598],\n",
       "       [606, 429]])"
      ]
     },
     "execution_count": 84,
     "metadata": {},
     "output_type": "execute_result"
    }
   ],
   "source": [
    "z[1:3,mask]"
   ]
  },
  {
   "cell_type": "code",
   "execution_count": 85,
   "id": "e9dcadd1",
   "metadata": {},
   "outputs": [],
   "source": [
    "data = np.random.normal(size=(50,2))"
   ]
  },
  {
   "cell_type": "code",
   "execution_count": 86,
   "id": "6b0ff4f5",
   "metadata": {},
   "outputs": [
    {
     "data": {
      "text/plain": [
       "array([[ 1.73938826,  0.27597599],\n",
       "       [ 1.04476114, -1.69459836],\n",
       "       [ 0.40835045,  0.31390926],\n",
       "       [ 0.73933085, -1.11422994],\n",
       "       [ 0.8198466 ,  0.29355833],\n",
       "       [ 0.07025879,  0.0726009 ],\n",
       "       [-0.59505126, -0.47949741],\n",
       "       [-0.26890129, -0.2767831 ],\n",
       "       [ 0.70720563, -0.36437136],\n",
       "       [-0.1353698 , -0.26321732],\n",
       "       [ 1.76245054, -0.31598902],\n",
       "       [ 0.0104163 ,  0.65110077],\n",
       "       [ 1.1341289 ,  0.10941766],\n",
       "       [-0.0622113 , -0.29137146],\n",
       "       [ 0.58402231, -0.07381776],\n",
       "       [ 0.01164809,  1.12790828],\n",
       "       [-0.79655263,  1.0631337 ],\n",
       "       [ 0.46803887, -0.5918224 ],\n",
       "       [-0.32783334, -0.23303282],\n",
       "       [ 0.60284131, -1.1290296 ],\n",
       "       [ 0.72940359,  2.30010189],\n",
       "       [-0.23905799, -0.7054006 ],\n",
       "       [ 1.08519841, -0.60094883],\n",
       "       [ 1.84764316, -0.00346277],\n",
       "       [-0.34978558,  0.63777246],\n",
       "       [ 0.91567177,  0.01152187],\n",
       "       [ 0.14574936,  0.21908638],\n",
       "       [-0.82445229,  0.22957454],\n",
       "       [ 1.58492497,  0.59482719],\n",
       "       [ 0.48172348,  0.21359409],\n",
       "       [-0.7502651 , -1.3405841 ],\n",
       "       [-0.34797791,  0.65424052],\n",
       "       [-0.95048578, -0.37861819],\n",
       "       [-0.22669211,  0.68653961],\n",
       "       [ 0.90511183,  0.31857443],\n",
       "       [ 1.97085458, -0.79752307],\n",
       "       [-1.94289599, -0.7122762 ],\n",
       "       [ 0.38480038, -0.2388086 ],\n",
       "       [ 0.30733809, -0.0037038 ],\n",
       "       [ 0.31448873, -0.39127723],\n",
       "       [ 0.14597253,  1.0352445 ],\n",
       "       [-0.21630492, -1.26098252],\n",
       "       [ 0.38444921,  0.72120919],\n",
       "       [ 0.35877918,  1.60033743],\n",
       "       [-1.41297347,  1.3733037 ],\n",
       "       [ 1.04875691,  1.54007411],\n",
       "       [ 0.43313785, -1.63974983],\n",
       "       [-1.03149895, -0.24790786],\n",
       "       [ 1.42784584,  0.79497395],\n",
       "       [-2.06223972,  0.71655648]])"
      ]
     },
     "execution_count": 86,
     "metadata": {},
     "output_type": "execute_result"
    }
   ],
   "source": [
    "data"
   ]
  },
  {
   "cell_type": "code",
   "execution_count": 87,
   "id": "354b0b19",
   "metadata": {},
   "outputs": [],
   "source": [
    "indices = np.random.choice(data.shape[0],10,replace = False)"
   ]
  },
  {
   "cell_type": "code",
   "execution_count": 88,
   "id": "d725ad6b",
   "metadata": {},
   "outputs": [
    {
     "data": {
      "text/plain": [
       "array([47,  3, 30, 21, 17, 13, 46, 36,  4, 27])"
      ]
     },
     "execution_count": 88,
     "metadata": {},
     "output_type": "execute_result"
    }
   ],
   "source": [
    "indices"
   ]
  },
  {
   "cell_type": "code",
   "execution_count": 89,
   "id": "ccd2022d",
   "metadata": {},
   "outputs": [],
   "source": [
    "random_10_pts = data[indices]"
   ]
  },
  {
   "cell_type": "code",
   "execution_count": 90,
   "id": "c7b83391",
   "metadata": {},
   "outputs": [
    {
     "data": {
      "text/plain": [
       "array([[-1.03149895, -0.24790786],\n",
       "       [ 0.73933085, -1.11422994],\n",
       "       [-0.7502651 , -1.3405841 ],\n",
       "       [-0.23905799, -0.7054006 ],\n",
       "       [ 0.46803887, -0.5918224 ],\n",
       "       [-0.0622113 , -0.29137146],\n",
       "       [ 0.43313785, -1.63974983],\n",
       "       [-1.94289599, -0.7122762 ],\n",
       "       [ 0.8198466 ,  0.29355833],\n",
       "       [-0.82445229,  0.22957454]])"
      ]
     },
     "execution_count": 90,
     "metadata": {},
     "output_type": "execute_result"
    }
   ],
   "source": [
    "random_10_pts"
   ]
  },
  {
   "cell_type": "code",
   "execution_count": 91,
   "id": "be1b9287",
   "metadata": {},
   "outputs": [
    {
     "data": {
      "text/plain": [
       "(10, 2)"
      ]
     },
     "execution_count": 91,
     "metadata": {},
     "output_type": "execute_result"
    }
   ],
   "source": [
    "random_10_pts.shape"
   ]
  },
  {
   "cell_type": "code",
   "execution_count": 92,
   "id": "8e38c2fc",
   "metadata": {},
   "outputs": [
    {
     "data": {
      "text/plain": [
       "array([[894, 348, 416, 477, 967],\n",
       "       [765, 317,  36, 598, 335],\n",
       "       [606, 448, 463, 429, 703]])"
      ]
     },
     "execution_count": 92,
     "metadata": {},
     "output_type": "execute_result"
    }
   ],
   "source": [
    "z"
   ]
  },
  {
   "cell_type": "code",
   "execution_count": 93,
   "id": "b4657857",
   "metadata": {},
   "outputs": [
    {
     "data": {
      "text/plain": [
       "array([765,  36, 335])"
      ]
     },
     "execution_count": 93,
     "metadata": {},
     "output_type": "execute_result"
    }
   ],
   "source": [
    "z[1,[0,2,4]]"
   ]
  },
  {
   "cell_type": "code",
   "execution_count": 94,
   "id": "adea6fd1",
   "metadata": {},
   "outputs": [
    {
     "data": {
      "text/plain": [
       "array([[894, 348, 416, 477, 967],\n",
       "       [765, 317,  36, 598, 335],\n",
       "       [606, 448, 463, 429, 703]])"
      ]
     },
     "execution_count": 94,
     "metadata": {},
     "output_type": "execute_result"
    }
   ],
   "source": [
    "z"
   ]
  },
  {
   "cell_type": "code",
   "execution_count": 95,
   "id": "eeb0691b",
   "metadata": {},
   "outputs": [],
   "source": [
    "z[1,[0,2,4]] += 1"
   ]
  },
  {
   "cell_type": "code",
   "execution_count": 96,
   "id": "1d391df2",
   "metadata": {},
   "outputs": [
    {
     "data": {
      "text/plain": [
       "array([[894, 348, 416, 477, 967],\n",
       "       [766, 317,  37, 598, 336],\n",
       "       [606, 448, 463, 429, 703]])"
      ]
     },
     "execution_count": 96,
     "metadata": {},
     "output_type": "execute_result"
    }
   ],
   "source": [
    "z"
   ]
  },
  {
   "cell_type": "code",
   "execution_count": 101,
   "id": "d1fd0bf6",
   "metadata": {},
   "outputs": [],
   "source": [
    "z[1,[1,1]] =[4,5] # first z[1,1] becomes 4 then z[1,1] becomes 5"
   ]
  },
  {
   "cell_type": "code",
   "execution_count": 102,
   "id": "c4287244",
   "metadata": {},
   "outputs": [
    {
     "data": {
      "text/plain": [
       "array([[894, 348, 416, 477, 967],\n",
       "       [766,   5,  37, 598, 336],\n",
       "       [606, 448, 463, 429, 703]])"
      ]
     },
     "execution_count": 102,
     "metadata": {},
     "output_type": "execute_result"
    }
   ],
   "source": [
    "z"
   ]
  },
  {
   "cell_type": "code",
   "execution_count": 103,
   "id": "3f853601",
   "metadata": {},
   "outputs": [
    {
     "data": {
      "text/plain": [
       "array([30, 19, 50, 28, 26, 75, 19, 55,  1, 86], dtype=int64)"
      ]
     },
     "execution_count": 103,
     "metadata": {},
     "output_type": "execute_result"
    }
   ],
   "source": [
    "x"
   ]
  },
  {
   "cell_type": "code",
   "execution_count": 104,
   "id": "99e769f3",
   "metadata": {},
   "outputs": [],
   "source": [
    "x[[1,2,3,4]] += 1"
   ]
  },
  {
   "cell_type": "code",
   "execution_count": 105,
   "id": "ade00541",
   "metadata": {},
   "outputs": [
    {
     "data": {
      "text/plain": [
       "array([30, 20, 51, 29, 27, 75, 19, 55,  1, 86], dtype=int64)"
      ]
     },
     "execution_count": 105,
     "metadata": {},
     "output_type": "execute_result"
    }
   ],
   "source": [
    "x"
   ]
  },
  {
   "cell_type": "code",
   "execution_count": 106,
   "id": "d7f1deb9",
   "metadata": {},
   "outputs": [],
   "source": [
    "x[[1,1,2,2,3]] +=1"
   ]
  },
  {
   "cell_type": "code",
   "execution_count": 108,
   "id": "bb60e812",
   "metadata": {},
   "outputs": [
    {
     "data": {
      "text/plain": [
       "array([30, 21, 52, 30, 27, 75, 19, 55,  1, 86], dtype=int64)"
      ]
     },
     "execution_count": 108,
     "metadata": {},
     "output_type": "execute_result"
    }
   ],
   "source": [
    "x #Note index 1 is added by 1 not by 2 (same for index 2)"
   ]
  },
  {
   "cell_type": "code",
   "execution_count": 110,
   "id": "3aa04aab",
   "metadata": {},
   "outputs": [],
   "source": [
    "np.add.at(x,[1,1,2,2,3],1)"
   ]
  },
  {
   "cell_type": "code",
   "execution_count": 112,
   "id": "1318b413",
   "metadata": {},
   "outputs": [
    {
     "data": {
      "text/plain": [
       "array([30, 23, 54, 31, 27, 75, 19, 55,  1, 86], dtype=int64)"
      ]
     },
     "execution_count": 112,
     "metadata": {},
     "output_type": "execute_result"
    }
   ],
   "source": [
    "x #Note now index 1 is added by 2 (same for index 2)"
   ]
  },
  {
   "cell_type": "markdown",
   "id": "cac33a97",
   "metadata": {},
   "source": [
    "---"
   ]
  }
 ],
 "metadata": {
  "kernelspec": {
   "display_name": "Python 3 (ipykernel)",
   "language": "python",
   "name": "python3"
  },
  "language_info": {
   "codemirror_mode": {
    "name": "ipython",
    "version": 3
   },
   "file_extension": ".py",
   "mimetype": "text/x-python",
   "name": "python",
   "nbconvert_exporter": "python",
   "pygments_lexer": "ipython3",
   "version": "3.10.9"
  }
 },
 "nbformat": 4,
 "nbformat_minor": 5
}
