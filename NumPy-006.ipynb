{
 "cells": [
  {
   "cell_type": "code",
   "execution_count": 1,
   "id": "ed541363",
   "metadata": {},
   "outputs": [],
   "source": [
    "import numpy as np"
   ]
  },
  {
   "cell_type": "code",
   "execution_count": 3,
   "id": "bf419241",
   "metadata": {},
   "outputs": [],
   "source": [
    "from vega_datasets import data"
   ]
  },
  {
   "cell_type": "code",
   "execution_count": 4,
   "id": "b51e84f9",
   "metadata": {},
   "outputs": [],
   "source": [
    "rainfall_mm = np.array(data.seattle_weather().set_index('date')['precipitation']['2015'])"
   ]
  },
  {
   "cell_type": "code",
   "execution_count": 5,
   "id": "050f9864",
   "metadata": {},
   "outputs": [
    {
     "data": {
      "text/plain": [
       "array([ 0. ,  1.5,  0. , 10.2,  8.1,  0. ,  0. ,  0. ,  0.3,  5.8,  1.5,\n",
       "        0. ,  0. ,  0. ,  9.7,  0. , 26.2, 21.3,  0.5,  0. ,  0. ,  0.8,\n",
       "        5.8,  0.5,  0. ,  0. ,  0.8,  0. ,  0. ,  0. ,  0. ,  1.5,  7.4,\n",
       "        1.3,  8.4, 26.2, 17.3, 23.6,  3.6,  6.1,  0.3,  0. ,  1. ,  0. ,\n",
       "        0.3,  0. ,  0. ,  0. ,  0. ,  4.6,  0.8,  0. ,  0. ,  0. ,  0. ,\n",
       "        4.1,  9.4, 18.3,  0. ,  0. ,  0. ,  0. ,  0. ,  0. ,  0. ,  0. ,\n",
       "        0. ,  0. ,  0.8,  2.5,  0. ,  2. , 17. , 55.9,  1. ,  0.8,  0. ,\n",
       "        0. ,  4.1,  3.8,  1. ,  8.1,  7.6,  5.1,  0. ,  1. ,  0. ,  0. ,\n",
       "        1.8,  1. ,  5.1,  0. ,  1.5,  0. ,  0. ,  1. ,  0.5,  0. ,  0. ,\n",
       "       10.9,  0. ,  0. , 14. ,  3.3,  0. ,  0. ,  0. ,  0. ,  0. ,  0. ,\n",
       "        5.6,  0. ,  3. ,  3.3,  1.3,  0. ,  0.3,  1.8,  0. ,  0. ,  0. ,\n",
       "        0. ,  0. ,  0. ,  6.1,  0. ,  0. ,  0. ,  0. ,  0. ,  0. ,  4.3,\n",
       "        4.1,  0.3,  0. ,  0. ,  0. ,  0. ,  0. ,  0. ,  0. ,  0. ,  0. ,\n",
       "        0. ,  0. ,  0. ,  0. ,  0. ,  0. ,  0. ,  0. ,  4.6,  0.5,  0. ,\n",
       "        0. ,  0. ,  0. ,  0. ,  0. ,  0. ,  0. ,  0. ,  0. ,  0. ,  0. ,\n",
       "        0. ,  0. ,  0. ,  0. ,  0.5,  0. ,  0. ,  0. ,  0. ,  0. ,  0. ,\n",
       "        0. ,  0. ,  0.3,  0. ,  0. ,  0. ,  0. ,  0. ,  0. ,  0. ,  0. ,\n",
       "        0. ,  0. ,  0. ,  0. ,  0. ,  0. ,  0. ,  0. ,  0. ,  0. ,  0. ,\n",
       "        0. ,  0. ,  0. ,  0. ,  0. ,  0. ,  0.3,  0. ,  2. ,  0. ,  0. ,\n",
       "        0. ,  0. ,  0. ,  0. ,  0. ,  0. ,  0. ,  0. ,  0. ,  0. ,  0. ,\n",
       "        0. ,  0. ,  0. ,  7.6,  0. , 30.5,  0. ,  0. ,  0. ,  0. ,  0. ,\n",
       "        2. ,  0. ,  0. ,  0. ,  0. ,  0. ,  0. ,  0. ,  0.5, 32.5, 10.2,\n",
       "        0. ,  5.8,  0. ,  0. ,  0. ,  0.3,  5.3,  0.3,  0. ,  0. ,  0. ,\n",
       "        0. ,  0. ,  0.5,  0. ,  0. ,  1. ,  1.8,  0. ,  0. ,  4.1,  0. ,\n",
       "        0. ,  0. ,  0. ,  2. ,  0. ,  0. ,  0. ,  0. ,  0. ,  0. ,  0. ,\n",
       "        0. ,  0. ,  0. ,  0. ,  9.9,  0. ,  0.3, 28.7,  0. ,  4.6,  1.3,\n",
       "        0. ,  0. ,  0. ,  0.3,  3.8,  0.3,  0. ,  0. ,  0. ,  0. ,  0. ,\n",
       "        8.9,  6.9,  0. ,  3.3,  1.8, 19.3, 33. , 26.2,  0.3,  0.8,  0. ,\n",
       "        1.3,  0. , 12.7,  6.6,  3.3,  1.3,  1.5,  9.9, 33.5, 47.2, 22.4,\n",
       "        2. , 29.5,  1.5,  2. ,  0. ,  0. ,  0. ,  3. ,  7.1,  0. ,  0. ,\n",
       "        0. ,  0. ,  0. ,  0.5, 12.2,  2.5, 12.7,  2. , 15.7, 11.2, 27.4,\n",
       "       54.1, 13.5,  9.4,  0.3, 16. ,  1.3,  0. ,  1.5,  3.6, 21.8, 18.5,\n",
       "        0. ,  4.3, 27.4,  4.6,  6.1,  2.5,  5.8,  0. ,  8.6,  1.5,  0. ,\n",
       "        0. ,  0. ])"
      ]
     },
     "execution_count": 5,
     "metadata": {},
     "output_type": "execute_result"
    }
   ],
   "source": [
    "rainfall_mm"
   ]
  },
  {
   "cell_type": "code",
   "execution_count": 6,
   "id": "bf3c075b",
   "metadata": {},
   "outputs": [
    {
     "data": {
      "text/plain": [
       "array([False,  True, False,  True,  True, False, False, False,  True,\n",
       "        True,  True, False, False, False,  True, False,  True,  True,\n",
       "        True, False, False,  True,  True,  True, False, False,  True,\n",
       "       False, False, False, False,  True,  True,  True,  True,  True,\n",
       "        True,  True,  True,  True,  True, False,  True, False,  True,\n",
       "       False, False, False, False,  True,  True, False, False, False,\n",
       "       False,  True,  True,  True, False, False, False, False, False,\n",
       "       False, False, False, False, False,  True,  True, False,  True,\n",
       "        True,  True,  True,  True, False, False,  True,  True,  True,\n",
       "        True,  True,  True, False,  True, False, False,  True,  True,\n",
       "        True, False,  True, False, False,  True,  True, False, False,\n",
       "        True, False, False,  True,  True, False, False, False, False,\n",
       "       False, False,  True, False,  True,  True,  True, False,  True,\n",
       "        True, False, False, False, False, False, False,  True, False,\n",
       "       False, False, False, False, False,  True,  True,  True, False,\n",
       "       False, False, False, False, False, False, False, False, False,\n",
       "       False, False, False, False, False, False, False,  True,  True,\n",
       "       False, False, False, False, False, False, False, False, False,\n",
       "       False, False, False, False, False, False, False,  True, False,\n",
       "       False, False, False, False, False, False, False,  True, False,\n",
       "       False, False, False, False, False, False, False, False, False,\n",
       "       False, False, False, False, False, False, False, False, False,\n",
       "       False, False, False, False, False, False,  True, False,  True,\n",
       "       False, False, False, False, False, False, False, False, False,\n",
       "       False, False, False, False, False, False, False,  True, False,\n",
       "        True, False, False, False, False, False,  True, False, False,\n",
       "       False, False, False, False, False,  True,  True,  True, False,\n",
       "        True, False, False, False,  True,  True,  True, False, False,\n",
       "       False, False, False,  True, False, False,  True,  True, False,\n",
       "       False,  True, False, False, False, False,  True, False, False,\n",
       "       False, False, False, False, False, False, False, False, False,\n",
       "        True, False,  True,  True, False,  True,  True, False, False,\n",
       "       False,  True,  True,  True, False, False, False, False, False,\n",
       "        True,  True, False,  True,  True,  True,  True,  True,  True,\n",
       "        True, False,  True, False,  True,  True,  True,  True,  True,\n",
       "        True,  True,  True,  True,  True,  True,  True,  True, False,\n",
       "       False, False,  True,  True, False, False, False, False, False,\n",
       "        True,  True,  True,  True,  True,  True,  True,  True,  True,\n",
       "        True,  True,  True,  True,  True, False,  True,  True,  True,\n",
       "        True, False,  True,  True,  True,  True,  True,  True, False,\n",
       "        True,  True, False, False, False])"
      ]
     },
     "execution_count": 6,
     "metadata": {},
     "output_type": "execute_result"
    }
   ],
   "source": [
    "rainfall_mm>0."
   ]
  },
  {
   "cell_type": "code",
   "execution_count": 8,
   "id": "de5e5155",
   "metadata": {},
   "outputs": [
    {
     "data": {
      "text/plain": [
       "144"
      ]
     },
     "execution_count": 8,
     "metadata": {},
     "output_type": "execute_result"
    }
   ],
   "source": [
    "len(rainfall_mm[rainfall_mm>0.])"
   ]
  },
  {
   "cell_type": "code",
   "execution_count": 14,
   "id": "6e2989e9",
   "metadata": {},
   "outputs": [],
   "source": [
    "x = np.array([1, 2, 3, 4, 5])"
   ]
  },
  {
   "cell_type": "code",
   "execution_count": 15,
   "id": "cf687a57",
   "metadata": {},
   "outputs": [
    {
     "data": {
      "text/plain": [
       "array([False,  True,  True,  True,  True])"
      ]
     },
     "execution_count": 15,
     "metadata": {},
     "output_type": "execute_result"
    }
   ],
   "source": [
    "x>1"
   ]
  },
  {
   "cell_type": "code",
   "execution_count": 16,
   "id": "2f0f5a19",
   "metadata": {},
   "outputs": [
    {
     "data": {
      "text/plain": [
       "array([False, False, False, False, False])"
      ]
     },
     "execution_count": 16,
     "metadata": {},
     "output_type": "execute_result"
    }
   ],
   "source": [
    "x<1"
   ]
  },
  {
   "cell_type": "code",
   "execution_count": 17,
   "id": "56940208",
   "metadata": {},
   "outputs": [
    {
     "data": {
      "text/plain": [
       "array([ True, False, False, False, False])"
      ]
     },
     "execution_count": 17,
     "metadata": {},
     "output_type": "execute_result"
    }
   ],
   "source": [
    "x==1"
   ]
  },
  {
   "cell_type": "code",
   "execution_count": 18,
   "id": "4cccc568",
   "metadata": {},
   "outputs": [
    {
     "data": {
      "text/plain": [
       "array([False,  True, False, False, False])"
      ]
     },
     "execution_count": 18,
     "metadata": {},
     "output_type": "execute_result"
    }
   ],
   "source": [
    "x*2 == x**2"
   ]
  },
  {
   "cell_type": "code",
   "execution_count": 22,
   "id": "fc6cbdfc",
   "metadata": {},
   "outputs": [
    {
     "data": {
      "text/plain": [
       "221"
      ]
     },
     "execution_count": 22,
     "metadata": {},
     "output_type": "execute_result"
    }
   ],
   "source": [
    "np.count_nonzero(rainfall_mm==0.)"
   ]
  },
  {
   "cell_type": "code",
   "execution_count": 23,
   "id": "8d04e1a5",
   "metadata": {},
   "outputs": [
    {
     "data": {
      "text/plain": [
       "144"
      ]
     },
     "execution_count": 23,
     "metadata": {},
     "output_type": "execute_result"
    }
   ],
   "source": [
    "np.count_nonzero(rainfall_mm!=0.)"
   ]
  },
  {
   "cell_type": "code",
   "execution_count": 24,
   "id": "ddfc90da",
   "metadata": {},
   "outputs": [],
   "source": [
    "rainy_ = rainfall_mm[rainfall_mm>0.]"
   ]
  },
  {
   "cell_type": "code",
   "execution_count": 25,
   "id": "b9f45a50",
   "metadata": {},
   "outputs": [
    {
     "data": {
      "text/plain": [
       "array([ 1.5, 10.2,  8.1,  0.3,  5.8,  1.5,  9.7, 26.2, 21.3,  0.5,  0.8,\n",
       "        5.8,  0.5,  0.8,  1.5,  7.4,  1.3,  8.4, 26.2, 17.3, 23.6,  3.6,\n",
       "        6.1,  0.3,  1. ,  0.3,  4.6,  0.8,  4.1,  9.4, 18.3,  0.8,  2.5,\n",
       "        2. , 17. , 55.9,  1. ,  0.8,  4.1,  3.8,  1. ,  8.1,  7.6,  5.1,\n",
       "        1. ,  1.8,  1. ,  5.1,  1.5,  1. ,  0.5, 10.9, 14. ,  3.3,  5.6,\n",
       "        3. ,  3.3,  1.3,  0.3,  1.8,  6.1,  4.3,  4.1,  0.3,  4.6,  0.5,\n",
       "        0.5,  0.3,  0.3,  2. ,  7.6, 30.5,  2. ,  0.5, 32.5, 10.2,  5.8,\n",
       "        0.3,  5.3,  0.3,  0.5,  1. ,  1.8,  4.1,  2. ,  9.9,  0.3, 28.7,\n",
       "        4.6,  1.3,  0.3,  3.8,  0.3,  8.9,  6.9,  3.3,  1.8, 19.3, 33. ,\n",
       "       26.2,  0.3,  0.8,  1.3, 12.7,  6.6,  3.3,  1.3,  1.5,  9.9, 33.5,\n",
       "       47.2, 22.4,  2. , 29.5,  1.5,  2. ,  3. ,  7.1,  0.5, 12.2,  2.5,\n",
       "       12.7,  2. , 15.7, 11.2, 27.4, 54.1, 13.5,  9.4,  0.3, 16. ,  1.3,\n",
       "        1.5,  3.6, 21.8, 18.5,  4.3, 27.4,  4.6,  6.1,  2.5,  5.8,  8.6,\n",
       "        1.5])"
      ]
     },
     "execution_count": 25,
     "metadata": {},
     "output_type": "execute_result"
    }
   ],
   "source": [
    "rainy_"
   ]
  },
  {
   "cell_type": "code",
   "execution_count": 26,
   "id": "795a782b",
   "metadata": {},
   "outputs": [
    {
     "data": {
      "text/plain": [
       "7.91111111111111"
      ]
     },
     "execution_count": 26,
     "metadata": {},
     "output_type": "execute_result"
    }
   ],
   "source": [
    "rainy_.mean()"
   ]
  },
  {
   "cell_type": "code",
   "execution_count": 27,
   "id": "76c8045b",
   "metadata": {},
   "outputs": [
    {
     "data": {
      "text/plain": [
       "True"
      ]
     },
     "execution_count": 27,
     "metadata": {},
     "output_type": "execute_result"
    }
   ],
   "source": [
    "np.any(rainy_>7.92)"
   ]
  },
  {
   "cell_type": "code",
   "execution_count": 28,
   "id": "f4c676fd",
   "metadata": {},
   "outputs": [
    {
     "data": {
      "text/plain": [
       "array([10.2,  8.1,  9.7, 26.2, 21.3,  8.4, 26.2, 17.3, 23.6,  9.4, 18.3,\n",
       "       17. , 55.9,  8.1, 10.9, 14. , 30.5, 32.5, 10.2,  9.9, 28.7,  8.9,\n",
       "       19.3, 33. , 26.2, 12.7,  9.9, 33.5, 47.2, 22.4, 29.5, 12.2, 12.7,\n",
       "       15.7, 11.2, 27.4, 54.1, 13.5,  9.4, 16. , 21.8, 18.5, 27.4,  8.6])"
      ]
     },
     "execution_count": 28,
     "metadata": {},
     "output_type": "execute_result"
    }
   ],
   "source": [
    "rainy_[rainy_>rainy_.mean()]"
   ]
  },
  {
   "cell_type": "code",
   "execution_count": 29,
   "id": "4b7cff27",
   "metadata": {},
   "outputs": [
    {
     "data": {
      "text/plain": [
       "True"
      ]
     },
     "execution_count": 29,
     "metadata": {},
     "output_type": "execute_result"
    }
   ],
   "source": [
    "np.all(rainy_>0)"
   ]
  },
  {
   "cell_type": "code",
   "execution_count": 30,
   "id": "1d2fe3ec",
   "metadata": {},
   "outputs": [],
   "source": [
    "random_arr = np.random.randint(1,100,(4,2))"
   ]
  },
  {
   "cell_type": "code",
   "execution_count": 31,
   "id": "0c509d55",
   "metadata": {},
   "outputs": [
    {
     "data": {
      "text/plain": [
       "array([[79, 24],\n",
       "       [ 3, 91],\n",
       "       [58, 39],\n",
       "       [64, 50]])"
      ]
     },
     "execution_count": 31,
     "metadata": {},
     "output_type": "execute_result"
    }
   ],
   "source": [
    "random_arr"
   ]
  },
  {
   "cell_type": "code",
   "execution_count": 32,
   "id": "1360c3ae",
   "metadata": {},
   "outputs": [
    {
     "data": {
      "text/plain": [
       "array([ True,  True,  True,  True])"
      ]
     },
     "execution_count": 32,
     "metadata": {},
     "output_type": "execute_result"
    }
   ],
   "source": [
    "np.any(random_arr>50,axis=1)"
   ]
  },
  {
   "cell_type": "code",
   "execution_count": 33,
   "id": "cad8f0c9",
   "metadata": {},
   "outputs": [
    {
     "data": {
      "text/plain": [
       "array([ True,  True])"
      ]
     },
     "execution_count": 33,
     "metadata": {},
     "output_type": "execute_result"
    }
   ],
   "source": [
    "np.any(random_arr>50,axis=0)"
   ]
  },
  {
   "cell_type": "code",
   "execution_count": 35,
   "id": "269ef39c",
   "metadata": {},
   "outputs": [
    {
     "data": {
      "text/plain": [
       "array([2, 2, 2, 2], dtype=int64)"
      ]
     },
     "execution_count": 35,
     "metadata": {},
     "output_type": "execute_result"
    }
   ],
   "source": [
    "np.count_nonzero(random_arr>0,axis =1)"
   ]
  },
  {
   "cell_type": "code",
   "execution_count": 36,
   "id": "325d3a30",
   "metadata": {},
   "outputs": [
    {
     "data": {
      "text/plain": [
       "array([4, 4], dtype=int64)"
      ]
     },
     "execution_count": 36,
     "metadata": {},
     "output_type": "execute_result"
    }
   ],
   "source": [
    "np.count_nonzero(random_arr>0,axis =0)"
   ]
  },
  {
   "cell_type": "code",
   "execution_count": 39,
   "id": "9d0baa85",
   "metadata": {},
   "outputs": [
    {
     "data": {
      "text/plain": [
       "16"
      ]
     },
     "execution_count": 39,
     "metadata": {},
     "output_type": "execute_result"
    }
   ],
   "source": [
    "np.sum((rainfall_mm>10) & (rainfall_mm<20))"
   ]
  },
  {
   "cell_type": "code",
   "execution_count": 44,
   "id": "e7f6969f",
   "metadata": {},
   "outputs": [
    {
     "name": "stdout",
     "output_type": "stream",
     "text": [
      "Number days without rain:   221\n",
      "Number days with rain:    144\n",
      "Days with more than 10 mm:  34\n"
     ]
    }
   ],
   "source": [
    "print(f\"Number days without rain:   {np.sum(rainfall_mm==0)}\")\n",
    "print(f\"Number days with rain:    {np.sum(rainfall_mm!=0)}\")\n",
    "print(f\"Days with more than 10 mm:  {np.sum(rainfall_mm>10)}\")"
   ]
  },
  {
   "cell_type": "code",
   "execution_count": 54,
   "id": "38961b13",
   "metadata": {},
   "outputs": [],
   "source": [
    "rainy = (rainfall_mm>0)"
   ]
  },
  {
   "cell_type": "code",
   "execution_count": 55,
   "id": "639d2803",
   "metadata": {},
   "outputs": [],
   "source": [
    "days = np.arange(0,365)"
   ]
  },
  {
   "cell_type": "code",
   "execution_count": 56,
   "id": "7309e2cd",
   "metadata": {},
   "outputs": [],
   "source": [
    "summer = (days>172) & (days<262)"
   ]
  },
  {
   "cell_type": "code",
   "execution_count": 50,
   "id": "222a059f",
   "metadata": {},
   "outputs": [
    {
     "data": {
      "text/plain": [
       "array([False, False, False, False, False, False, False, False, False,\n",
       "       False, False, False, False, False, False, False, False, False,\n",
       "       False, False, False, False, False, False, False, False, False,\n",
       "       False, False, False, False, False, False, False, False, False,\n",
       "       False, False, False, False, False, False, False, False, False,\n",
       "       False, False, False, False, False, False, False, False, False,\n",
       "       False, False, False, False, False, False, False, False, False,\n",
       "       False, False, False, False, False, False, False, False, False,\n",
       "       False, False, False, False, False, False, False, False, False,\n",
       "       False, False, False, False, False, False, False, False, False,\n",
       "       False, False, False, False, False, False, False, False, False,\n",
       "       False, False, False, False, False, False, False, False, False,\n",
       "       False, False, False, False, False, False, False, False, False,\n",
       "       False, False, False, False, False, False, False, False, False,\n",
       "       False, False, False, False, False, False, False, False, False,\n",
       "       False, False, False, False, False, False, False, False, False,\n",
       "       False, False, False, False, False, False, False, False, False,\n",
       "       False, False, False, False, False, False, False, False, False,\n",
       "       False, False, False, False, False, False, False, False, False,\n",
       "       False, False,  True,  True,  True,  True,  True,  True,  True,\n",
       "        True,  True,  True,  True,  True,  True,  True,  True,  True,\n",
       "        True,  True,  True,  True,  True,  True,  True,  True,  True,\n",
       "        True,  True,  True,  True,  True,  True,  True,  True,  True,\n",
       "        True,  True,  True,  True,  True,  True,  True,  True,  True,\n",
       "        True,  True,  True,  True,  True,  True,  True,  True,  True,\n",
       "        True,  True,  True,  True,  True,  True,  True,  True,  True,\n",
       "        True,  True,  True,  True,  True,  True,  True,  True,  True,\n",
       "        True,  True,  True,  True,  True,  True,  True,  True,  True,\n",
       "        True,  True,  True,  True,  True,  True,  True,  True,  True,\n",
       "        True, False, False, False, False, False, False, False, False,\n",
       "       False, False, False, False, False, False, False, False, False,\n",
       "       False, False, False, False, False, False, False, False, False,\n",
       "       False, False, False, False, False, False, False, False, False,\n",
       "       False, False, False, False, False, False, False, False, False,\n",
       "       False, False, False, False, False, False, False, False, False,\n",
       "       False, False, False, False, False, False, False, False, False,\n",
       "       False, False, False, False, False, False, False, False, False,\n",
       "       False, False, False, False, False, False, False, False, False,\n",
       "       False, False, False, False, False, False, False, False, False,\n",
       "       False, False, False, False, False, False, False, False, False,\n",
       "       False, False, False, False, False])"
      ]
     },
     "execution_count": 50,
     "metadata": {},
     "output_type": "execute_result"
    }
   ],
   "source": [
    "summer"
   ]
  },
  {
   "cell_type": "code",
   "execution_count": 57,
   "id": "b9a0230d",
   "metadata": {},
   "outputs": [
    {
     "data": {
      "text/plain": [
       "0.0"
      ]
     },
     "execution_count": 57,
     "metadata": {},
     "output_type": "execute_result"
    }
   ],
   "source": [
    "np.median(rainfall_mm[summer])"
   ]
  },
  {
   "cell_type": "code",
   "execution_count": 58,
   "id": "376be284",
   "metadata": {},
   "outputs": [
    {
     "data": {
      "text/plain": [
       "3.8"
      ]
     },
     "execution_count": 58,
     "metadata": {},
     "output_type": "execute_result"
    }
   ],
   "source": [
    "np.median(rainfall_mm[rainy])"
   ]
  },
  {
   "cell_type": "code",
   "execution_count": 59,
   "id": "5aa11ba3",
   "metadata": {},
   "outputs": [
    {
     "data": {
      "text/plain": [
       "55.9"
      ]
     },
     "execution_count": 59,
     "metadata": {},
     "output_type": "execute_result"
    }
   ],
   "source": [
    "np.max(rainfall_mm[rainy])"
   ]
  },
  {
   "cell_type": "code",
   "execution_count": 60,
   "id": "dd1512d7",
   "metadata": {},
   "outputs": [
    {
     "data": {
      "text/plain": [
       "0.3"
      ]
     },
     "execution_count": 60,
     "metadata": {},
     "output_type": "execute_result"
    }
   ],
   "source": [
    "np.min(rainfall_mm[rainy])"
   ]
  },
  {
   "cell_type": "code",
   "execution_count": 62,
   "id": "816b0b3c",
   "metadata": {},
   "outputs": [
    {
     "data": {
      "text/plain": [
       "array([1, 2, 3, 4, 5])"
      ]
     },
     "execution_count": 62,
     "metadata": {},
     "output_type": "execute_result"
    }
   ],
   "source": [
    "x"
   ]
  },
  {
   "cell_type": "code",
   "execution_count": 63,
   "id": "eccf4bc9",
   "metadata": {},
   "outputs": [
    {
     "ename": "ValueError",
     "evalue": "The truth value of an array with more than one element is ambiguous. Use a.any() or a.all()",
     "output_type": "error",
     "traceback": [
      "\u001b[1;31m---------------------------------------------------------------------------\u001b[0m",
      "\u001b[1;31mValueError\u001b[0m                                Traceback (most recent call last)",
      "Cell \u001b[1;32mIn[63], line 1\u001b[0m\n\u001b[1;32m----> 1\u001b[0m (x\u001b[38;5;241m>\u001b[39m\u001b[38;5;241m1\u001b[39m) \u001b[38;5;129;01mand\u001b[39;00m (x\u001b[38;5;241m>\u001b[39m\u001b[38;5;241m2\u001b[39m)\n",
      "\u001b[1;31mValueError\u001b[0m: The truth value of an array with more than one element is ambiguous. Use a.any() or a.all()"
     ]
    }
   ],
   "source": [
    "(x>1) and (x>2)"
   ]
  },
  {
   "cell_type": "code",
   "execution_count": 64,
   "id": "5ea17987",
   "metadata": {},
   "outputs": [
    {
     "data": {
      "text/plain": [
       "array([False, False,  True,  True,  True])"
      ]
     },
     "execution_count": 64,
     "metadata": {},
     "output_type": "execute_result"
    }
   ],
   "source": [
    "(x>1) & (x>2)"
   ]
  },
  {
   "cell_type": "code",
   "execution_count": 66,
   "id": "ae0906aa",
   "metadata": {},
   "outputs": [
    {
     "ename": "ValueError",
     "evalue": "The truth value of an array with more than one element is ambiguous. Use a.any() or a.all()",
     "output_type": "error",
     "traceback": [
      "\u001b[1;31m---------------------------------------------------------------------------\u001b[0m",
      "\u001b[1;31mValueError\u001b[0m                                Traceback (most recent call last)",
      "Cell \u001b[1;32mIn[66], line 1\u001b[0m\n\u001b[1;32m----> 1\u001b[0m (x\u001b[38;5;241m>\u001b[39m\u001b[38;5;241m1\u001b[39m) \u001b[38;5;129;01mor\u001b[39;00m (x\u001b[38;5;241m>\u001b[39m\u001b[38;5;241m2\u001b[39m)\n",
      "\u001b[1;31mValueError\u001b[0m: The truth value of an array with more than one element is ambiguous. Use a.any() or a.all()"
     ]
    }
   ],
   "source": [
    "(x>1) or (x>2)"
   ]
  },
  {
   "cell_type": "code",
   "execution_count": 65,
   "id": "08c2a6c9",
   "metadata": {},
   "outputs": [
    {
     "data": {
      "text/plain": [
       "array([False,  True,  True,  True,  True])"
      ]
     },
     "execution_count": 65,
     "metadata": {},
     "output_type": "execute_result"
    }
   ],
   "source": [
    "(x>1) | (x>2)"
   ]
  },
  {
   "cell_type": "markdown",
   "id": "67435c38",
   "metadata": {},
   "source": [
    "### and and or perform a single Boolean evaluation on an entire object, while & and | perform multiple Boolean evaluations on the content (the individual bits or bytes) of an object"
   ]
  },
  {
   "cell_type": "markdown",
   "id": "61e8aeda",
   "metadata": {},
   "source": [
    "---"
   ]
  }
 ],
 "metadata": {
  "kernelspec": {
   "display_name": "Python 3 (ipykernel)",
   "language": "python",
   "name": "python3"
  },
  "language_info": {
   "codemirror_mode": {
    "name": "ipython",
    "version": 3
   },
   "file_extension": ".py",
   "mimetype": "text/x-python",
   "name": "python",
   "nbconvert_exporter": "python",
   "pygments_lexer": "ipython3",
   "version": "3.10.9"
  }
 },
 "nbformat": 4,
 "nbformat_minor": 5
}
